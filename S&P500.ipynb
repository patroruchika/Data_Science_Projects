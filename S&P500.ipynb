{
  "nbformat": 4,
  "nbformat_minor": 0,
  "metadata": {
    "colab": {
      "name": "S&P500.ipynb",
      "provenance": [],
      "authorship_tag": "ABX9TyPm/1R6dF5tPqPAJAck/3Fn",
      "include_colab_link": true
    },
    "kernelspec": {
      "name": "python3",
      "display_name": "Python 3"
    },
    "language_info": {
      "name": "python"
    }
  },
  "cells": [
    {
      "cell_type": "markdown",
      "metadata": {
        "id": "view-in-github",
        "colab_type": "text"
      },
      "source": [
        "<a href=\"https://colab.research.google.com/github/patroruchika/Data_Science_Projects_Python/blob/main/S%26P500.ipynb\" target=\"_parent\"><img src=\"https://colab.research.google.com/assets/colab-badge.svg\" alt=\"Open In Colab\"/></a>"
      ]
    },
    {
      "cell_type": "code",
      "metadata": {
        "id": "eOMd-dcn8Zon"
      },
      "source": [
        "import pandas as pd\n",
        "def load_data():\n",
        "    url = 'https://en.wikipedia.org/wiki/List_of_S%26P_500_companies'\n",
        "    html = pd.read_html(url, header = 0)\n",
        "    df = html[0]\n",
        "    return df\n",
        "\n",
        "df = load_data()"
      ],
      "execution_count": null,
      "outputs": []
    },
    {
      "cell_type": "markdown",
      "metadata": {
        "id": "toCp1ECL9RPj"
      },
      "source": [
        "Unique sectors"
      ]
    },
    {
      "cell_type": "code",
      "metadata": {
        "id": "1xo1H59Z9VCa"
      },
      "source": [
        "sector_unique = df['GICS Sector'].unique()\n",
        "sorted_sectors = sorted(sector_unique)"
      ],
      "execution_count": null,
      "outputs": []
    },
    {
      "cell_type": "markdown",
      "metadata": {
        "id": "Zi1XBO4H-YHY"
      },
      "source": [
        "Group by sectors"
      ]
    },
    {
      "cell_type": "code",
      "metadata": {
        "id": "4vyK-7e_-eIJ"
      },
      "source": [
        "sectors = df.groupby('GICS Sector')\n",
        "sectors.first()"
      ],
      "execution_count": null,
      "outputs": []
    },
    {
      "cell_type": "code",
      "metadata": {
        "id": "0ZW42CGWCn8k"
      },
      "source": [
        "sectors.describe()"
      ],
      "execution_count": null,
      "outputs": []
    },
    {
      "cell_type": "code",
      "metadata": {
        "id": "dAyHLSK0C0HI"
      },
      "source": [
        "sectors.get_group('Health Care')"
      ],
      "execution_count": null,
      "outputs": []
    },
    {
      "cell_type": "markdown",
      "metadata": {
        "id": "7_BmcDdMDcgI"
      },
      "source": [
        "Finance data"
      ]
    },
    {
      "cell_type": "code",
      "metadata": {
        "id": "LIYhH26oDfCX"
      },
      "source": [
        "! pip install yfinance"
      ],
      "execution_count": null,
      "outputs": []
    },
    {
      "cell_type": "code",
      "metadata": {
        "id": "AUxP_rGJDnt5"
      },
      "source": [
        "import yfinance as yf"
      ],
      "execution_count": null,
      "outputs": []
    },
    {
      "cell_type": "code",
      "metadata": {
        "id": "l6LYkL5zDzWL"
      },
      "source": [
        "symbols = list(df.Symbol)\n",
        "symbols"
      ],
      "execution_count": null,
      "outputs": []
    },
    {
      "cell_type": "code",
      "metadata": {
        "id": "brkJTY_nFM1R"
      },
      "source": [
        "data = yf.download(\n",
        "        tickers = symbols,\n",
        "        period = '5d',\n",
        "        interval = '1d',\n",
        "        group_by = 'ticker',\n",
        "        auto_adjust = True,\n",
        "        prepost = True,\n",
        "        threads = True,\n",
        "        proxy = None\n",
        ")"
      ],
      "execution_count": null,
      "outputs": []
    },
    {
      "cell_type": "code",
      "metadata": {
        "id": "N3Ual9k_G_ar"
      },
      "source": [
        "data"
      ],
      "execution_count": null,
      "outputs": []
    },
    {
      "cell_type": "code",
      "metadata": {
        "id": "b0i_lb6aHQn7"
      },
      "source": [
        "data['ABMD']"
      ],
      "execution_count": null,
      "outputs": []
    },
    {
      "cell_type": "code",
      "metadata": {
        "id": "nofptFDOIDV0"
      },
      "source": [
        "df2 = pd.DataFrame(data['ABMD'].Close)\n",
        "df2['Date'] = df2.index\n",
        "df2"
      ],
      "execution_count": null,
      "outputs": []
    },
    {
      "cell_type": "markdown",
      "metadata": {
        "id": "ZoBmtxvbI7zo"
      },
      "source": [
        "Plot closing price of query symbol using a custom function"
      ]
    },
    {
      "cell_type": "code",
      "metadata": {
        "id": "kD7aka5mJBGF"
      },
      "source": [
        "import matplotlib.pyplot as plt\n",
        "\n",
        "def price_plot(symbol):\n",
        "  df = pd.DataFrame(data[symbol].Close)\n",
        "  df['Date'] = df.index\n",
        "  plt.fill_between(df.Date, df.Close, color='skyblue', alpha=0.3)\n",
        "  plt.plot(df.Date, df.Close, color='skyblue', alpha=0.8)\n",
        "  plt.xticks(rotation=90)\n",
        "  plt.title(symbol, fontweight='bold')\n",
        "  plt.xlabel('Date', fontweight='bold')\n",
        "  plt.ylabel('Closing Price', fontweight='bold')\n",
        "  return plt.show()\n"
      ],
      "execution_count": null,
      "outputs": []
    },
    {
      "cell_type": "code",
      "metadata": {
        "id": "O0cRIQhVKCpK"
      },
      "source": [
        "price_plot('ABMD')"
      ],
      "execution_count": null,
      "outputs": []
    },
    {
      "cell_type": "code",
      "metadata": {
        "id": "TzSGWzRAKlgN"
      },
      "source": [
        "for i in symbols[:10]:\n",
        "  price_plot(i)\n"
      ],
      "execution_count": null,
      "outputs": []
    }
  ]
}